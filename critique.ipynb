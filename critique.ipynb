{
 "cells": [
  {
   "cell_type": "code",
   "execution_count": 35,
   "metadata": {},
   "outputs": [],
   "source": [
    "import os\n",
    "from pprint import pprint\n",
    "from bs4 import BeautifulSoup\n",
    "from string import punctuation\n",
    "punctuation += \"—\"\n",
    "from collections import Counter\n",
    "from tqdm.notebook import tqdm"
   ]
  },
  {
   "cell_type": "code",
   "execution_count": 16,
   "metadata": {},
   "outputs": [],
   "source": [
    "import cltk"
   ]
  },
  {
   "cell_type": "markdown",
   "metadata": {},
   "source": [
    "# POS-tagger"
   ]
  },
  {
   "cell_type": "code",
   "execution_count": 5,
   "metadata": {
    "scrolled": true
   },
   "outputs": [
    {
     "name": "stdout",
     "output_type": "stream",
     "text": [
      "['latin_text_perseus',\n",
      " 'latin_treebank_perseus',\n",
      " 'latin_text_latin_library',\n",
      " 'phi5',\n",
      " 'phi7',\n",
      " 'latin_proper_names_cltk',\n",
      " 'latin_models_cltk',\n",
      " 'latin_pos_lemmata_cltk',\n",
      " 'latin_treebank_index_thomisticus',\n",
      " 'latin_lexica_perseus',\n",
      " 'latin_training_set_sentence_cltk',\n",
      " 'latin_word2vec_cltk',\n",
      " 'latin_text_antique_digiliblt',\n",
      " 'latin_text_corpus_grammaticorum_latinorum',\n",
      " 'latin_text_poeti_ditalia',\n",
      " 'latin_text_tesserae']\n"
     ]
    },
    {
     "data": {
      "text/plain": [
       "16"
      ]
     },
     "execution_count": 5,
     "metadata": {},
     "output_type": "execute_result"
    }
   ],
   "source": [
    "from cltk.corpus.utils.importer import CorpusImporter\n",
    "\n",
    "corpus_importer = CorpusImporter('latin')\n",
    "pprint(corpus_importer.list_corpora)\n",
    "len(corpus_importer.list_corpora)"
   ]
  },
  {
   "cell_type": "code",
   "execution_count": 14,
   "metadata": {},
   "outputs": [],
   "source": [
    "corpus_importer.import_corpus('latin_models_cltk')"
   ]
  },
  {
   "cell_type": "code",
   "execution_count": 5,
   "metadata": {
    "scrolled": true
   },
   "outputs": [
    {
     "data": {
      "text/plain": [
       "[('prohibeo', None), ('!', None), ('Caesar', None)]"
      ]
     },
     "execution_count": 5,
     "metadata": {},
     "output_type": "execute_result"
    }
   ],
   "source": [
    "from cltk.tag.pos import POSTag\n",
    "\n",
    "tagger = POSTag('latin')\n",
    "\n",
    "tagger.tag_ngram_123_backoff('prohibeo !\\nCaesar')"
   ]
  },
  {
   "cell_type": "code",
   "execution_count": 6,
   "metadata": {},
   "outputs": [],
   "source": [
    "def text_and_POStag_text(file):  \n",
    "    with open(f'perseus_tagged_corpus/{file}', encoding='utf-8') as f:\n",
    "        text = f.read()\n",
    "        soup = BeautifulSoup(text, 'xml')\n",
    "        sentences = []\n",
    "        POStag_sentences = []\n",
    "        for sent in soup.find_all('sentence'):\n",
    "            wordforms = []\n",
    "            POStags = []\n",
    "            for w in sent.find_all('word'):\n",
    "                try:\n",
    "                    if w.attrs['postag'] and w.attrs['form'] not in punctuation:\n",
    "                        form = w.attrs['form']\n",
    "                        for punct in punctuation:\n",
    "                            form = form.replace(punct, '')\n",
    "                        wordforms.append(form)\n",
    "                        POStags.append(w.attrs['postag'])\n",
    "                except:\n",
    "                    pass\n",
    "            sentences.append(wordforms)\n",
    "            POStag_sentences.append(POStags)\n",
    "    return (sentences, POStag_sentences)"
   ]
  },
  {
   "cell_type": "code",
   "execution_count": 20,
   "metadata": {},
   "outputs": [],
   "source": [
    "tagged_perseus_files = os.listdir('perseus_tagged_corpus')"
   ]
  },
  {
   "cell_type": "code",
   "execution_count": 21,
   "metadata": {},
   "outputs": [
    {
     "data": {
      "text/plain": [
       "['phi0690.phi003.perseus-lat1.tb.xml',\n",
       " 'perseus-lattb.1248.1.xml',\n",
       " 'perseus-lattb.2219.1.xml',\n",
       " 'phi0631.phi001.perseus-lat1.tb.xml',\n",
       " 'phi0972.phi001.perseus-lat1.tb.xml',\n",
       " 'phi0474.phi013.perseus-lat1.tb.xml',\n",
       " 'phi0620.phi001.perseus-lat1.tb.xml',\n",
       " 'phi0448.phi001.perseus-lat1.tb.xml',\n",
       " 'phi0959.phi006.perseus-lat1.tb.xml',\n",
       " 'tlg0031.tlg027.perseus-lat1.tb.xml']"
      ]
     },
     "execution_count": 21,
     "metadata": {},
     "output_type": "execute_result"
    }
   ],
   "source": [
    "tagged_perseus_files"
   ]
  },
  {
   "cell_type": "code",
   "execution_count": 9,
   "metadata": {
    "scrolled": true
   },
   "outputs": [],
   "source": [
    "texts = {}\n",
    "POStag_texts = {}\n",
    "for file in tagged_perseus_files:\n",
    "    (sentences, POStag_sentences) = text_and_POStag_text(file)\n",
    "    texts[file] = sentences\n",
    "    POStag_texts[file] = POStag_sentences"
   ]
  },
  {
   "cell_type": "code",
   "execution_count": 10,
   "metadata": {
    "scrolled": true
   },
   "outputs": [],
   "source": [
    "for file in texts.keys():\n",
    "    with open(f'perseus_text/{file[:-4]}.txt', 'w', encoding='utf-8') as f:\n",
    "        f.write('\\n'.join([' '.join(sent) for sent in texts[file]]))\n",
    "for file in POStag_texts.keys():\n",
    "    with open(f'perseus_tags/{file[:-4]}.txt', 'w', encoding='utf-8') as f:\n",
    "        f.write('\\n'.join([' '.join(sent) for sent in POStag_texts[file]]))"
   ]
  },
  {
   "cell_type": "code",
   "execution_count": 22,
   "metadata": {},
   "outputs": [],
   "source": [
    "def sentence_tagger_stats(POS_tagger, files):\n",
    "    percent_sum = 0\n",
    "    for file in files:\n",
    "        with open(f'perseus_text/{file[:-4]}.txt', encoding='utf-8') as f:\n",
    "            text = f.read()\n",
    "            spl_text = text.split()\n",
    "        with open(f'perseus_tags/{file[:-4]}.txt', encoding='utf-8') as f:\n",
    "            spl_tags = f.read().split()\n",
    "        cltk_tagged = []\n",
    "        for sent in text.split('\\n'):\n",
    "            tagged_sent = POS_tagger(sent)\n",
    "            cltk_tagged.extend(tagged_sent)\n",
    "        correct_tag_count = 0\n",
    "        total_tag_count = 0\n",
    "        wrong_tags = []\n",
    "        for i, (word, tag) in enumerate(cltk_tagged):\n",
    "                correct = False\n",
    "                if not tag or tag == 'Unk' and spl_tags[i] == 'u--------':\n",
    "                    correct = True\n",
    "                    correct_tag_count += 1\n",
    "                elif tag and tag.lower() == spl_tags[i]:\n",
    "                    correct = True\n",
    "                    correct_tag_count += 1\n",
    "                else:\n",
    "                    wrong_tags.append((word, tag))\n",
    "                if word != spl_text[i]:\n",
    "                    print(word + ' ' + spl_text[i])\n",
    "                #if spl_text[i] == 'que'\n",
    "                total_tag_count += 1\n",
    "        print(f'{file}:\\nТОЧНОСТЬ: {correct_tag_count/total_tag_count}\\n')\n",
    "        percent_sum += correct_tag_count/total_tag_count\n",
    "        pprint(Counter(wrong_tags).most_common(10))\n",
    "        print()\n",
    "    print(f'СРЕДНЯЯ ТОЧНОСТЬ: {percent_sum/len(files)}')"
   ]
  },
  {
   "cell_type": "code",
   "execution_count": 23,
   "metadata": {
    "scrolled": true
   },
   "outputs": [
    {
     "name": "stdout",
     "output_type": "stream",
     "text": [
      "phi0690.phi003.perseus-lat1.tb.xml:\n",
      "ТОЧНОСТЬ: 0.8931198615318044\n",
      "\n",
      "[(('ea', 'P-S---FB-'), 3),\n",
      " (('quam', 'C--------'), 3),\n",
      " (('ardens', 'T-SPPAFN-'), 2),\n",
      " (('miseratus', 'T-SRPPMN-'), 2),\n",
      " (('hoc', 'P-S---NA-'), 2),\n",
      " (('ingens', 'A-S---MN-'), 2),\n",
      " (('cum', 'R--------'), 2),\n",
      " (('dictis', 'T-PRPPNB-'), 2),\n",
      " (('horrendas', 'T-PPGPFA-'), 2),\n",
      " (('involvens', 'T-SPPAMN-'), 2)]\n",
      "\n",
      "perseus-lattb.1248.1.xml:\n",
      "ТОЧНОСТЬ: 0.8428519461622408\n",
      "\n",
      "[(('inquit', 'V3SPIA---'), 53),\n",
      " (('quod', 'C--------'), 18),\n",
      " (('ne', 'D--------'), 15),\n",
      " (('qui', 'P-S---MN-'), 7),\n",
      " (('quae', 'P-S---FN-'), 6),\n",
      " (('suos', 'A-P---MA-'), 6),\n",
      " (('mea', 'A-S---FN-'), 6),\n",
      " (('dedit', 'V3SPIA---'), 5),\n",
      " (('genus', 'N-S---NN-'), 5),\n",
      " (('tua', 'A-S---FN-'), 5)]\n",
      "\n",
      "perseus-lattb.2219.1.xml:\n",
      "ТОЧНОСТЬ: 0.8571036752605595\n",
      "\n",
      "[(('etiam', 'D--------'), 43),\n",
      " (('ne', 'D--------'), 38),\n",
      " (('cum', 'C--------'), 17),\n",
      " (('se', 'P-S---MA-'), 13),\n",
      " (('p', '---------'), 11),\n",
      " (('quo', 'P-S---NB-'), 11),\n",
      " (('quam', 'C--------'), 9),\n",
      " (('quam', 'D--------'), 9),\n",
      " (('suo', 'A-S---NB-'), 9),\n",
      " (('prius', 'D--------'), 8)]\n",
      "\n",
      "phi0631.phi001.perseus-lat1.tb.xml:\n",
      "ТОЧНОСТЬ: 0.8954828090709583\n",
      "\n",
      "[(('ne', 'D--------'), 24),\n",
      " (('qui', 'P-S---MN-'), 23),\n",
      " (('cum', 'C--------'), 21),\n",
      " (('ea', 'P-S---FB-'), 18),\n",
      " (('quae', 'P-S---FN-'), 14),\n",
      " (('quo', 'P-S---NB-'), 14),\n",
      " (('quod', 'C--------'), 11),\n",
      " (('conscripti', 'T-PRPPMV-'), 11),\n",
      " (('post', 'R--------'), 9),\n",
      " (('quibus', 'P-P---MD-'), 8)]\n",
      "\n",
      "phi0972.phi001.perseus-lat1.tb.xml:\n",
      "ТОЧНОСТЬ: 0.9194451853827688\n",
      "\n",
      "[(('ne', 'D--------'), 31),\n",
      " (('cum', 'R--------'), 22),\n",
      " (('quod', 'C--------'), 16),\n",
      " (('et', 'C--------'), 13),\n",
      " (('ut', 'C--------'), 10),\n",
      " (('c', 'C--------'), 9),\n",
      " (('quae', 'P-S---FN-'), 9),\n",
      " (('qui', 'P-P---MN-'), 8),\n",
      " (('factus', 'T-SRPPMN-'), 8),\n",
      " (('qui', 'P-S---MN-'), 8)]\n",
      "\n",
      "phi0474.phi013.perseus-lat1.tb.xml:\n",
      "ТОЧНОСТЬ: 0.9643496954496596\n",
      "\n",
      "[(('qui', 'P-S---MN-'), 14),\n",
      " (('nihil', 'N-S---N--'), 11),\n",
      " (('cum', 'R--------'), 11),\n",
      " (('quod', 'C--------'), 10),\n",
      " (('quid', 'P-S---NN-'), 8),\n",
      " (('quae', 'P-S---FN-'), 5),\n",
      " (('quod', 'P-S---NN-'), 5),\n",
      " (('ne', 'C--------'), 4),\n",
      " (('me', 'P-S---MA-'), 4),\n",
      " (('quo', 'P-S---NB-'), 4)]\n",
      "\n",
      "phi0620.phi001.perseus-lat1.tb.xml:\n",
      "ТОЧНОСТЬ: 0.8930602957906713\n",
      "\n",
      "[(('ne', 'D--------'), 29),\n",
      " (('tu', 'P-S---MN-'), 19),\n",
      " (('te', 'P-S---MA-'), 9),\n",
      " (('quid', 'P-S---NN-'), 8),\n",
      " (('quae', 'P-S---FN-'), 6),\n",
      " (('tibi', 'P-S---MD-'), 5),\n",
      " (('haec', 'P-P---NA-'), 5),\n",
      " (('quid', 'P-S---NA-'), 4),\n",
      " (('ut', 'C--------'), 4),\n",
      " (('quo', 'P-S---NB-'), 4)]\n",
      "\n",
      "phi0448.phi001.perseus-lat1.tb.xml:\n",
      "ТОЧНОСТЬ: 0.9045553145336226\n",
      "\n",
      "[(('qui', 'P-S---MN-'), 7),\n",
      " (('quae', 'P-S---FN-'), 5),\n",
      " (('se', 'P-S---MA-'), 4),\n",
      " (('cum', 'C--------'), 4),\n",
      " (('supra', 'R--------'), 2),\n",
      " (('cohortatus', 'T-SRPPMN-'), 2),\n",
      " (('ne', 'D--------'), 2),\n",
      " (('eo', 'P-S---MB-'), 2),\n",
      " (('transeundi', 'T-SPDANG-'), 2),\n",
      " (('quod', 'C--------'), 2)]\n",
      "\n",
      "phi0959.phi006.perseus-lat1.tb.xml:\n",
      "ТОЧНОСТЬ: 0.9050175029171529\n",
      "\n",
      "[(('ne', 'D--------'), 12),\n",
      " (('c', 'C--------'), 7),\n",
      " (('quod', 'C--------'), 6),\n",
      " (('te', 'P-S---MA-'), 5),\n",
      " (('ut', 'C--------'), 5),\n",
      " (('quid', 'P-S---NA-'), 5),\n",
      " (('qua', 'P-S---FB-'), 4),\n",
      " (('hoc', 'P-S---NA-'), 4),\n",
      " (('mora', 'N-S---FB-'), 4),\n",
      " (('haec', 'P-P---NA-'), 4)]\n",
      "\n",
      "tlg0031.tlg027.perseus-lat1.tb.xml:\n",
      "ТОЧНОСТЬ: 0.939513242662849\n",
      "\n",
      "[(('dicens', 'T-SPPAMN-'), 15),\n",
      " (('dicentes', 'T-PPPAMN-'), 11),\n",
      " (('datum', 'T-SRPPNN-'), 10),\n",
      " (('eius', 'P-S---FG-'), 8),\n",
      " (('dicentem', 'T-SPPAFA-'), 8),\n",
      " (('habentem', 'T-SPPAMA-'), 7),\n",
      " (('facta', 'T-SRPPFN-'), 7),\n",
      " (('factum', 'T-SRPPNN-'), 7),\n",
      " (('qui', 'P-S---MN-'), 6),\n",
      " (('data', 'T-SRPPFN-'), 6)]\n",
      "\n",
      "СРЕДНЯЯ ТОЧНОСТЬ: 0.9014499528762288\n"
     ]
    }
   ],
   "source": [
    "sentence_tagger_stats(tagger.tag_ngram_123_backoff, tagged_perseus_files)"
   ]
  },
  {
   "cell_type": "code",
   "execution_count": 24,
   "metadata": {
    "scrolled": true
   },
   "outputs": [
    {
     "name": "stdout",
     "output_type": "stream",
     "text": [
      "phi0690.phi003.perseus-lat1.tb.xml:\n",
      "ТОЧНОСТЬ: 0.7858070099524016\n",
      "\n",
      "[(('Aeneas', 'Unk'), 10),\n",
      " (('O', 'Unk'), 7),\n",
      " (('Sibyllae', 'Unk'), 5),\n",
      " (('Tum', 'Unk'), 5),\n",
      " (('Tu', 'Unk'), 4),\n",
      " (('At', 'Unk'), 3),\n",
      " (('Triviae', 'Unk'), 3),\n",
      " (('In', 'Unk'), 3),\n",
      " (('Phoebi', 'Unk'), 3),\n",
      " (('Non', 'Unk'), 3)]\n",
      "\n",
      "perseus-lattb.1248.1.xml:\n",
      "ТОЧНОСТЬ: 0.40887595489268824\n",
      "\n",
      "[(('inquit', 'V3SPIA---'), 53),\n",
      " (('Et', 'Unk'), 43),\n",
      " (('Qui', 'Unk'), 20),\n",
      " (('quod', 'C--------'), 17),\n",
      " (('Sed', 'Unk'), 16),\n",
      " (('Hoc', 'Unk'), 14),\n",
      " (('Quod', 'Unk'), 13),\n",
      " (('ne', 'D--------'), 13),\n",
      " (('Nec', 'Unk'), 13),\n",
      " (('Tunc', 'Unk'), 12)]\n",
      "\n",
      "perseus-lattb.2219.1.xml:\n",
      "ТОЧНОСТЬ: 0.4506308283049918\n",
      "\n",
      "[(('etiam', 'D--------'), 45),\n",
      " (('ne', 'D--------'), 30),\n",
      " (('uel', 'Unk'), 23),\n",
      " (('M', 'Unk'), 20),\n",
      " (('neque', 'Unk'), 15),\n",
      " (('se', 'P-S---MA-'), 12),\n",
      " (('quam', 'C--------'), 12),\n",
      " (('Antonio', 'Unk'), 11),\n",
      " (('gessit', 'Unk'), 11),\n",
      " (('C', 'Unk'), 10)]\n",
      "\n",
      "phi0631.phi001.perseus-lat1.tb.xml:\n",
      "ТОЧНОСТЬ: 0.8592721287490855\n",
      "\n",
      "[(('Catilina', 'Unk'), 28),\n",
      " (('C', 'Unk'), 22),\n",
      " (('L', 'Unk'), 21),\n",
      " (('Sed', 'Unk'), 20),\n",
      " (('Catilinae', 'Unk'), 18),\n",
      " (('Q', 'Unk'), 17),\n",
      " (('M', 'Unk'), 16),\n",
      " (('ne', 'D--------'), 15),\n",
      " (('P', 'Unk'), 15),\n",
      " (('Romae', 'Unk'), 15)]\n",
      "\n",
      "phi0972.phi001.perseus-lat1.tb.xml:\n",
      "ТОЧНОСТЬ: 0.8127500666844492\n",
      "\n",
      "[(('Trimalchio', 'Unk'), 74),\n",
      " (('Et', 'Unk'), 49),\n",
      " (('Quid', 'Unk'), 29),\n",
      " (('Itaque', 'Unk'), 26),\n",
      " (('Ne', 'Unk'), 25),\n",
      " (('Non', 'Unk'), 24),\n",
      " (('ne', 'D--------'), 23),\n",
      " (('Sed', 'Unk'), 22),\n",
      " (('Ego', 'Unk'), 20),\n",
      " (('Nam', 'Unk'), 19)]\n",
      "\n",
      "phi0474.phi013.perseus-lat1.tb.xml:\n",
      "ТОЧНОСТЬ: 0.9426728771049803\n",
      "\n",
      "[(('Catilina', 'Unk'), 29),\n",
      " (('Catilinam', 'Unk'), 11),\n",
      " (('Quirites', 'Unk'), 10),\n",
      " (('L', 'Unk'), 8),\n",
      " (('cum', 'R--------'), 8),\n",
      " (('etiam', 'D--------'), 7),\n",
      " (('M', 'Unk'), 7),\n",
      " (('Catilinae', 'Unk'), 7),\n",
      " (('O', 'Unk'), 5),\n",
      " (('C', 'Unk'), 5)]\n",
      "\n",
      "phi0620.phi001.perseus-lat1.tb.xml:\n",
      "ТОЧНОСТЬ: 0.8534698521046644\n",
      "\n",
      "[(('Cynthia', 'Unk'), 29),\n",
      " (('ne', 'D--------'), 18),\n",
      " (('Amor', 'Unk'), 16),\n",
      " (('Galle', 'Unk'), 8),\n",
      " (('quid', 'P-S---NA-'), 5),\n",
      " (('tu', 'P-S---MN-'), 5),\n",
      " (('Tulle', 'Unk'), 4),\n",
      " (('a', 'R--------'), 4),\n",
      " (('Tu', 'Unk'), 4),\n",
      " (('et', 'C--------'), 4)]\n",
      "\n",
      "phi0448.phi001.perseus-lat1.tb.xml:\n",
      "ТОЧНОСТЬ: 0.8214027476500362\n",
      "\n",
      "[(('Caesar', 'Unk'), 12),\n",
      " (('Gallia', 'Unk'), 6),\n",
      " (('Belgas', 'Unk'), 4),\n",
      " (('His', 'Unk'), 4),\n",
      " (('Cum', 'Unk'), 3),\n",
      " (('qui', 'P-S---MN-'), 3),\n",
      " (('Romani', 'Unk'), 3),\n",
      " (('Q', 'Unk'), 3),\n",
      " (('Belgis', 'Unk'), 3),\n",
      " (('Remis', 'Unk'), 3)]\n",
      "\n",
      "phi0959.phi006.perseus-lat1.tb.xml:\n",
      "ТОЧНОСТЬ: 0.8350058343057176\n",
      "\n",
      "[(('Ne', 'Unk'), 9),\n",
      " (('ne', 'D--------'), 7),\n",
      " (('c', 'C--------'), 6),\n",
      " (('Non', 'Unk'), 5),\n",
      " (('Ut', 'Unk'), 5),\n",
      " (('Iove', 'Unk'), 4),\n",
      " (('Hic', 'Unk'), 4),\n",
      " (('Iuppiter', 'Unk'), 4),\n",
      " (('Quem', 'Unk'), 4),\n",
      " (('quid', 'P-S---NA-'), 4)]\n",
      "\n",
      "tlg0031.tlg027.perseus-lat1.tb.xml:\n",
      "ТОЧНОСТЬ: 0.9098067287043665\n",
      "\n",
      "[(('Dei', 'Unk'), 48),\n",
      " (('Deus', 'Unk'), 22),\n",
      " (('Deo', 'Unk'), 17),\n",
      " (('dicens', 'T-SPPAMN-'), 15),\n",
      " (('Iesu', 'Unk'), 13),\n",
      " (('dicentes', 'T-PPPAMN-'), 12),\n",
      " (('Deum', 'Unk'), 11),\n",
      " (('datum', 'T-SRPPNN-'), 10),\n",
      " (('Dominus', 'Unk'), 9),\n",
      " (('Spiritus', 'Unk'), 9)]\n",
      "\n",
      "СРЕДНЯЯ ТОЧНОСТЬ: 0.7679694028453382\n"
     ]
    }
   ],
   "source": [
    "sentence_tagger_stats(tagger.tag_tnt, tagged_perseus_files)"
   ]
  },
  {
   "cell_type": "code",
   "execution_count": 12,
   "metadata": {},
   "outputs": [],
   "source": [
    "def tagger_stats(POS_tagger, files):\n",
    "    percent_sum = 0\n",
    "    for file in files:\n",
    "        with open(f'perseus_text/{file[:-4]}.txt', encoding='utf-8') as f:\n",
    "            spl_text = f.read().split()\n",
    "        cltk_tagged = POS_tagger(' '.join(spl_text))\n",
    "        with open(f'perseus_tags/{file[:-4]}.txt', encoding='utf-8') as f:\n",
    "            spl_tags = f.read().split()\n",
    "        correct_tag_count = 0\n",
    "        total_tag_count = 0\n",
    "        wrong_tags = []\n",
    "        for i, (word, tag) in tqdm(enumerate(cltk_tagged)):\n",
    "                correct = False\n",
    "                if not tag or tag == 'Unk' and spl_tags[i] == 'u--------':\n",
    "                    correct = True\n",
    "                    correct_tag_count += 1\n",
    "                elif tag and tag.lower() == spl_tags[i]:\n",
    "                    correct = True\n",
    "                    correct_tag_count += 1\n",
    "                else:\n",
    "                    wrong_tags.append((word, tag))\n",
    "                if word != spl_text[i]:\n",
    "                    print(word + ' ' + spl_text[i])\n",
    "                #if spl_text[i] == 'que'\n",
    "                total_tag_count += 1\n",
    "        print(f'{file}:\\nТОЧНОСТЬ: {correct_tag_count/total_tag_count}\\n')\n",
    "        percent_sum += correct_tag_count/total_tag_count\n",
    "        pprint(Counter(wrong_tags).most_common(10))\n",
    "        print()\n",
    "    print(f'СРЕДНЯЯ ТОЧНОСТЬ: {percent_sum/len(files)}')"
   ]
  },
  {
   "cell_type": "markdown",
   "metadata": {},
   "source": [
    "# Макронайзер"
   ]
  },
  {
   "cell_type": "code",
   "execution_count": 2,
   "metadata": {},
   "outputs": [],
   "source": [
    "from cltk.prosody.latin.macronizer import Macronizer"
   ]
  },
  {
   "cell_type": "code",
   "execution_count": 19,
   "metadata": {},
   "outputs": [],
   "source": [
    "macrons = {\"ā\": \"a\",\n",
    "           \"ē\": \"e\",\n",
    "           \"ī\": \"i\",\n",
    "           \"ō\": \"o\",\n",
    "           \"ū\": \"u\",\n",
    "           \"Ā\": \"a\",\n",
    "           \"Ē\": \"e\",\n",
    "           \"Ī\": \"i\",\n",
    "           \"Ō\": \"o\",\n",
    "           \"Ū\": \"u\"}"
   ]
  },
  {
   "cell_type": "code",
   "execution_count": 3,
   "metadata": {},
   "outputs": [],
   "source": [
    "macronizer = Macronizer('tag_ngram_123_backoff')"
   ]
  },
  {
   "cell_type": "code",
   "execution_count": 30,
   "metadata": {},
   "outputs": [],
   "source": [
    "Aeneid_text_premacronized = \"\"\"Arma virumque canō, Trōiae quī prīmus ab ōrīs\n",
    "Ītaliam, fātō profugus, Lāvīniaque vēnit\n",
    "lītora, multum ille et terrīs iactātus et altō\n",
    "vī superum saevae memorem Iūnōnis ob īram;\n",
    "multa quoque et bellō passūs, dum conderet urbem,\n",
    "inferretque deōs Latiō, genus unde Latīnum,\n",
    "Albānīque patrēs, atque altae moenia Rōmae.\n",
    "Mūsa, mihī causās memorā, quō nūmine laesō,\n",
    "quidve dolēns, rēgīna deum tot volvere cāsūs\n",
    "īnsīgnem pietāte virum, tot adīre labōrēs\n",
    "impulerit. Tantaene animīs caelestibus īrae?\n",
    "Urbs antīqua fuit, Tyriī tenuēre colōnī,\n",
    "Karthāgō, Ītaliam contrā Tiberīnaque longē\n",
    "ōstia, dīves opum studiīsque asperrima bellī,\n",
    "quam Iūnō fertur terrīs magis omnibus ūnam\n",
    "posthabitā coluisse Samō; hīc illius arma,\n",
    "hīc currus fuit; hōc rēgnum dea gentibus esse,\n",
    "sī quā Fāta sinant, iam tum tenditque fovetque.\n",
    "Prōgeniem sed enim Trōiānō ā sanguine dūcī\n",
    "audierat, Tyriās olim quae verteret arcēs;\n",
    "hinc populum lātē regem bellōque superbum\n",
    "ventūrum excidiō Libyae: sīc volvere Parcās.\n",
    "Id metuēns, veterisque memor Sāturnia bellī,\n",
    "prīma quod ad Trōiam prō cārīs gesserat Argīs—\n",
    "necdum etiam causae īrārum saevīque dolōrēs\n",
    "exciderant animō: manet altā mente repostum\n",
    "iūdicium Paridis sprētaeque iniūria fōrmae,\n",
    "et genus invīsum, et raptī Ganymēdis honōrēs.\n",
    "Hīs accēnsa super, iactātōs aequore tōtō\n",
    "Trōas, rēliquiās Danaum atque immītis Achillī,\n",
    "arcēbat longē Latiō, multōsque per annōs\n",
    "errābant, āctī Fātīs, maria omnia circum.\n",
    "Tantae mōlis erat Rōmānam condere gentem!\"\"\""
   ]
  },
  {
   "cell_type": "code",
   "execution_count": 31,
   "metadata": {},
   "outputs": [],
   "source": [
    "Aeneid_text = Aeneid_text_premacronized.replace(\"ō\", \"o\").replace(\"ē\", \"e\").replace(\"ā\", \"a\").replace(\"ī\", \"i\").replace(\"ū\", \"u\").replace(\"Ō\", \"O\").replace(\"Ē\", \"E\").replace(\"Ā\", \"A\").replace(\"Ī\", \"I\").replace(\"Ū\", \"U\")\n",
    "\n"
   ]
  },
  {
   "cell_type": "code",
   "execution_count": 16,
   "metadata": {},
   "outputs": [
    {
     "name": "stdout",
     "output_type": "stream",
     "text": [
      "arma virumque cano , trojae quī prīmus ab ōrīs i_taliam , fato profugus , laviniaque venit lītora , multum ille et terrīs iactatus et altō vī superum saevae memorem jūnōnis ob īram ; multa quoque et bellō passūs , dum conderet urbem , inferretque deōs lātiō , genus unde latinum , albanique patrēs , atque altae moenia Rōmae . musa , mihi causās memora , quō nūmine laeso , quidve dolēns , rēgīna deum tot volvere cāsūs insignem pietāte virum , tot adīre labōrēs impulerit . tantaene animīs caelestibus īrae ? urbs antīqua fuit , tyrii tenuēre colōnī , karthago , i_taliam contrā tiberinaque longē ōstia , dīves opum studiisque asperrima bellī , quam jūnō fertur terrīs magis omnibus ūnam posthabita coluisse samo ; hic illīus arma , hic currūs fuit ; hoc rēgnum dea gentibus esse , sī qua fāta sinant , jam tum tenditque fovetque . progeniem sed enim troiano ā sanguine dūcī audierat , tyrias ōlim quae verteret arcēs ; hinc populum lātē rēgem belloque superbum ventūrum excidio libyae : sīc volvere parcas . id metuēns , veterisque memor sāturnia bellī , prīma quod ad troiam prō caris gesserat argis — necdum etiam causae irarum saevique dolōrēs exciderant animō : manet alta mente repostum jūdicium paridis spretaeque injūria fōrmae , et genus invīsum , et rapti ganymedis honōrēs . hīs accēnsa super , iactatos aequore totō troas , reliquiās danaum atque immitis achillī , arcebat longē lātiō , multosque per annōs errabant , acti fātīs , maria omnia circum . tantae molis erat rōmānam condere gentem !\n"
     ]
    }
   ],
   "source": [
    "print(macronizer.macronize_text(Aeneid_text))"
   ]
  },
  {
   "cell_type": "code",
   "execution_count": 36,
   "metadata": {},
   "outputs": [],
   "source": [
    "Aeneid_text_premacronized_modified = \"\"\n",
    "for symbol in Aeneid_text_premacronized:\n",
    "    if symbol.upper() == symbol and symbol in macrons.keys():\n",
    "        Aeneid_text_premacronized_modified += macrons[symbol]+\"_\"\n",
    "    elif symbol in punctuation:\n",
    "        Aeneid_text_premacronized_modified += \" \"+symbol\n",
    "    elif symbol == \"\\n\":\n",
    "        Aeneid_text_premacronized_modified += \" \"\n",
    "    else:\n",
    "        Aeneid_text_premacronized_modified += symbol\n",
    "Aeneid_text_premacronized_modified = Aeneid_text_premacronized_modified.lower()"
   ]
  },
  {
   "cell_type": "code",
   "execution_count": 25,
   "metadata": {
    "scrolled": true
   },
   "outputs": [
    {
     "data": {
      "text/plain": [
       "'arma virumque canō , trōiae quī prīmus ab ōrīs i_taliam , fātō profugus , lāvīniaque vēnit lītora , multum ille et terrīs iactātus et altō vī superum saevae memorem iūnōnis ob īram ; multa quoque et bellō passūs , dum conderet urbem , inferretque deōs latiō , genus unde latīnum , albānīque patrēs , atque altae moenia rōmae .  mūsa , mihī causās memorā , quō nūmine laesō , quidve dolēns , rēgīna deum tot volvere cāsūs īnsīgnem pietāte virum , tot adīre labōrēs impulerit . tantaene animīs caelestibus īrae ?  urbs antīqua fuit , tyriī tenuēre colōnī , karthāgō , i_taliam contrā tiberīnaque longē ōstia , dīves opum studiīsque asperrima bellī , quam iūnō fertur terrīs magis omnibus ūnam posthabitā coluisse samō ; hīc illius arma , hīc currus fuit ; hōc rēgnum dea gentibus esse , sī quā fāta sinant , iam tum tenditque fovetque . prōgeniem sed enim trōiānō ā sanguine dūcī audierat , tyriās olim quae verteret arcēs ; hinc populum lātē regem bellōque superbum ventūrum excidiō libyae : sīc volvere parcās . id metuēns , veterisque memor sāturnia bellī , prīma quod ad trōiam prō cārīs gesserat argīs— necdum etiam causae īrārum saevīque dolōrēs exciderant animō : manet altā mente repostum iūdicium paridis sprētaeque iniūria fōrmae , et genus invīsum , et raptī ganymēdis honōrēs . hīs accēnsa super , iactātōs aequore tōtō trōas , rēliquiās danaum atque immītis achillī , arcēbat longē latiō , multōsque per annōs errābant , āctī fātīs , maria omnia circum . tantae mōlis erat rōmānam condere gentem !'"
      ]
     },
     "execution_count": 25,
     "metadata": {},
     "output_type": "execute_result"
    }
   ],
   "source": [
    "Aeneid_text_premacronized_modified"
   ]
  },
  {
   "cell_type": "code",
   "execution_count": 46,
   "metadata": {},
   "outputs": [],
   "source": [
    "def word_from_letter_index(i, text):\n",
    "    word = \"\"\n",
    "    left = \"\"\n",
    "    right = \"\"\n",
    "    for symbol in text[i-1::-1]:\n",
    "        if symbol not in \" \\n\":\n",
    "            left += symbol\n",
    "        else:\n",
    "            break\n",
    "    for symbol in text[i+1:]:\n",
    "        if symbol not in \" \\n\":\n",
    "            right += symbol\n",
    "        else:\n",
    "            break\n",
    "    word = left[::-1]+text[i]+right\n",
    "    return word"
   ]
  },
  {
   "cell_type": "code",
   "execution_count": 50,
   "metadata": {},
   "outputs": [],
   "source": [
    "def vowel_count_latin(text):\n",
    "    vowel_count = 0\n",
    "    for symbol in text:\n",
    "        if symbol.lower() in \"aeiouāēīōū\":\n",
    "            vowel_count += 1\n",
    "    return vowel_count"
   ]
  },
  {
   "cell_type": "code",
   "execution_count": 53,
   "metadata": {
    "scrolled": true
   },
   "outputs": [
    {
     "name": "stdout",
     "output_type": "stream",
     "text": [
      "cano canō\n",
      "trojae trōiae\n",
      "fato fātō\n",
      "fato fātō\n",
      "laviniaque lāvīniaque\n",
      "laviniaque lāvīniaque\n",
      "venit vēnit\n",
      "iactatus iactātus\n",
      "lātiō latiō\n",
      "latinum latīnum\n",
      "albanique albānīque\n",
      "albanique albānīque\n",
      "musa mūsa\n",
      "mihi mihī\n",
      "memora memorā\n",
      "laeso laesō\n",
      "insignem īnsīgnem\n",
      "insignem īnsīgnem\n",
      "tyrii tyriī\n",
      "karthago karthāgō\n",
      "karthago karthāgō\n",
      "tiberinaque tiberīnaque\n",
      "studiisque studiīsque\n",
      "posthabita posthabitā\n",
      "samo samō\n",
      "hic hīc\n",
      "illīus illius\n",
      "hic hīc\n",
      "currūs currus\n",
      "hoc hōc\n",
      "qua quā\n",
      "progeniem prōgeniem\n",
      "troiano trōiānō\n",
      "troiano trōiānō\n",
      "troiano trōiānō\n",
      "tyrias tyriās\n",
      "ōlim olim\n",
      "rēgem regem\n",
      "belloque bellōque\n",
      "excidio excidiō\n",
      "parcas parcās\n",
      "troiam trōiam\n",
      "caris cārīs\n",
      "caris cārīs\n",
      "argis argīs\n",
      "irarum īrārum\n",
      "irarum īrārum\n",
      "saevique saevīque\n",
      "alta altā\n",
      "spretaeque sprētaeque\n",
      "rapti raptī\n",
      "ganymedis ganymēdis\n",
      "iactatos iactātōs\n",
      "iactatos iactātōs\n",
      "totō tōtō\n",
      "troas trōas\n",
      "reliquiās rēliquiās\n",
      "immitis immītis\n",
      "arcebat arcēbat\n",
      "lātiō latiō\n",
      "multosque multōsque\n",
      "errabant errābant\n",
      "acti āctī\n",
      "acti āctī\n",
      "molis mōlis\n"
     ]
    }
   ],
   "source": [
    "wrong_vowel_count = 0\n",
    "for i, symbol in enumerate(macronizer.macronize_text(Aeneid_text)):\n",
    "    if symbol.lower() in \"aeiouāēīōū\" and symbol != Aeneid_text_premacronized_modified[i]:\n",
    "        print(word_from_letter_index(i, macronizer.macronize_text(Aeneid_text))+\" \"+word_from_letter_index(i, Aeneid_text_premacronized_modified))\n",
    "        wrong_vowel_count += 1"
   ]
  },
  {
   "cell_type": "code",
   "execution_count": 54,
   "metadata": {},
   "outputs": [
    {
     "data": {
      "text/plain": [
       "0.11565836298932385"
      ]
     },
     "execution_count": 54,
     "metadata": {},
     "output_type": "execute_result"
    }
   ],
   "source": [
    "# такой процень гласных угадывает макронайзер\n",
    "wrong_vowel_count / vowel_count_latin(Aeneid_text_premacronized_modified)"
   ]
  }
 ],
 "metadata": {
  "kernelspec": {
   "display_name": "Python 3",
   "language": "python",
   "name": "python3"
  },
  "language_info": {
   "codemirror_mode": {
    "name": "ipython",
    "version": 3
   },
   "file_extension": ".py",
   "mimetype": "text/x-python",
   "name": "python",
   "nbconvert_exporter": "python",
   "pygments_lexer": "ipython3",
   "version": "3.7.4"
  }
 },
 "nbformat": 4,
 "nbformat_minor": 2
}
